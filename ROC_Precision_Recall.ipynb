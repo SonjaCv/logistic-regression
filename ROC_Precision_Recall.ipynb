{
 "cells": [
  {
   "cell_type": "code",
   "execution_count": 1,
   "metadata": {
    "collapsed": true
   },
   "outputs": [],
   "source": [
    "import sys\n",
    "import os\n",
    "from operator import itemgetter\n",
    "import matplotlib.pyplot as plt\n",
    "import numpy as np"
   ]
  },
  {
   "cell_type": "code",
   "execution_count": 18,
   "metadata": {
    "collapsed": true
   },
   "outputs": [],
   "source": [
    "def GetRates(predicted, y, classLabel):\n",
    "\n",
    "    #calculate true positives + false negatives which is the number of actual examples labeled with classLabel\n",
    "    tpfn = 0.0;\n",
    "    for yVal in y:\n",
    "        if yVal == classLabel:\n",
    "            tpfn = tpfn + 1;\n",
    "    \n",
    "    tpfp=0.0;\n",
    "    tp=0.0;\n",
    "    prec=0.0;\n",
    "    rec=0.0;\n",
    "    precision = [0.0]  \n",
    "    recall = [0.0]  \n",
    "    for i in range(600):\n",
    "        if predicted[i]==classLabel and y[i]==classLabel:\n",
    "            tp=tp+1\n",
    "            tpfp=tpfp+1\n",
    "            prec=tp/tpfp\n",
    "            precision.append(prec)\n",
    "            rec=tp/tpfn\n",
    "            recall.append(rec)\n",
    "        if predicted[i]==classLabel and y[i]!=classLabel:\n",
    "            tpfp=tpfp+1\n",
    "            prec=tp/tpfp\n",
    "            precision.append(prec)\n",
    "            recall.append(rec)\n",
    "\n",
    "    return precision, recall"
   ]
  },
  {
   "cell_type": "code",
   "execution_count": 3,
   "metadata": {
    "collapsed": true
   },
   "outputs": [],
   "source": [
    "def AddROCCurve(plt, predicted, y, color, label, classLabel):   \n",
    "    \n",
    "    precision, recall = GetRates(predicted, y, classLabel)\n",
    "    plt.plot(recall, precision, color=color, linewidth=2, label=label)"
   ]
  },
  {
   "cell_type": "code",
   "execution_count": 4,
   "metadata": {
    "collapsed": true
   },
   "outputs": [],
   "source": [
    "def SaveROCCurvePlot(plt, fname, randomline=True):\n",
    "\n",
    "    if randomline:\n",
    "        x = [0.0, 1.0]\n",
    "        plt.plot(x, x, linestyle='dashed', color='red', linewidth=2, label='random')\n",
    "\n",
    "    plt.xlim(0.0, 1.0)\n",
    "    plt.ylim(0.0, 1.0)\n",
    "    plt.legend(fontsize=10, loc='best')\n",
    "    plt.tight_layout()\n",
    "    plt.savefig(fname)"
   ]
  },
  {
   "cell_type": "code",
   "execution_count": 5,
   "metadata": {
    "collapsed": true
   },
   "outputs": [],
   "source": [
    "def SetupROCCurvePlot(plt, algName):\n",
    "\n",
    "    plt.xlabel(\"Recall\", fontsize=14)\n",
    "    plt.ylabel(\"Precision\", fontsize=14)\n",
    "    plt.title(algName, fontsize=14)"
   ]
  },
  {
   "cell_type": "code",
   "execution_count": 6,
   "metadata": {
    "collapsed": true
   },
   "outputs": [],
   "source": [
    "def IsSupportedImageType(ext):\n",
    "    fig = plt.figure()\n",
    "    return (ext[1:] in fig.canvas.get_supported_filetypes())"
   ]
  },
  {
   "cell_type": "code",
   "execution_count": 19,
   "metadata": {
    "collapsed": false
   },
   "outputs": [],
   "source": [
    "predicted = []\n",
    "for line in open('LR_pred.txt', 'r').readlines():\n",
    "    id = line.strip()\n",
    "    predicted.append(id)        \n",
    "        \n",
    "y = []\n",
    "for line in open('LR_y.txt', 'r').readlines():\n",
    "    id = line.strip()\n",
    "    y.append(id)\n",
    "    \n",
    "plt.figure(figsize=(5, 5), dpi=80)\n",
    "SetupROCCurvePlot(plt, \"Logistic regression\")  \n",
    "\n",
    "AddROCCurve(plt, predicted, y, \"#008000\", \"baterija negativna\",\"1\")\n",
    "AddROCCurve(plt, predicted, y, \"#3300FF\", \"memorija negativna\",\"3\")\n",
    "AddROCCurve(plt, predicted, y, \"#990066\", \"performansi negativna\",\"5\")\n",
    "AddROCCurve(plt, predicted, y, \"#000000\", \"ekran negativna\",\"7\")\n",
    "AddROCCurve(plt, predicted, y, \"#FFFF00\", \"dimenzii negativna\",\"9\")\n",
    "\n",
    "SaveROCCurvePlot(plt, \"LR_negative.png\", False)"
   ]
  },
  {
   "cell_type": "code",
   "execution_count": null,
   "metadata": {
    "collapsed": false
   },
   "outputs": [],
   "source": [
    "# AddROCCurve(plt, predicted, y, \"#008000\", \"baterija pozitivna\",\"2\")\n",
    "# AddROCCurve(plt, predicted, y, \"#3300FF\", \"memorija pozitivna\",\"4\")\n",
    "# AddROCCurve(plt, predicted, y, \"#990066\", \"performansi pozitivna\",\"6\")\n",
    "# AddROCCurve(plt, predicted, y, \"#000000\", \"ekran pozitivna\",\"8\")\n",
    "# AddROCCurve(plt, predicted, y, \"#FFFF00\", \"dimenzii pozitivna\",\"10\")"
   ]
  }
 ],
 "metadata": {
  "kernelspec": {
   "display_name": "Python 2",
   "language": "python",
   "name": "python2"
  },
  "language_info": {
   "codemirror_mode": {
    "name": "ipython",
    "version": 2
   },
   "file_extension": ".py",
   "mimetype": "text/x-python",
   "name": "python",
   "nbconvert_exporter": "python",
   "pygments_lexer": "ipython2",
   "version": "2.7.10"
  }
 },
 "nbformat": 4,
 "nbformat_minor": 0
}
